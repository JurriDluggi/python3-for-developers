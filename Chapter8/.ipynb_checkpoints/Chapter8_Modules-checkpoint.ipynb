{
 "cells": [
  {
   "cell_type": "markdown",
   "metadata": {},
   "source": [
    "[Python for Developers](../index.ipynb/#content)\n",
    "\n",
    "### First Edition\n",
    "\n",
    "\n",
    "## Chapter 8: Modules\n",
    "\n",
    "\n",
    "For Python, modules are source files that can be imported into a program. They can contain any Python structure and run when <span class=\"note\" title=\"If it is necessary to run the module again during the execution of the application, it will have to be loaded again with the reload () function.\">imported</span>. They are compiled when first imported and stored in file (with file extension \".pyc\" or \".pyo\"), have their own *namespaces*  and support *Doc Strings*. They are singleton objects (only one instance is loaded into memory, which is available globally for the program).\n",
    "\n",
    "![Modules](files/bpyfd_diags6.png)\n",
    "\n",
    "The modules are located by the interpreter through the list of folders `PYTHONPATH` (sys.path), which usually includes the current directory first.\n",
    "\n",
    "The modules are loaded with the `import` statement. Thus, when using a module structure, it is necessary to identify the module. This is called absolute import."
   ]
  },
  {
   "cell_type": "code",
   "execution_count": 1,
   "metadata": {
    "collapsed": false
   },
   "outputs": [
    {
     "name": "stdout",
     "output_type": "stream",
     "text": [
      "nt\n"
     ]
    }
   ],
   "source": [
    "import os\n",
    "print(os.name)"
   ]
  },
  {
   "cell_type": "markdown",
   "metadata": {},
   "source": [
    "You can also import modules with relative form:"
   ]
  },
  {
   "cell_type": "code",
   "execution_count": 2,
   "metadata": {
    "collapsed": false
   },
   "outputs": [
    {
     "name": "stdout",
     "output_type": "stream",
     "text": [
      "nt\n"
     ]
    }
   ],
   "source": [
    "from os import name\n",
    "print(name)"
   ]
  },
  {
   "cell_type": "markdown",
   "metadata": {},
   "source": [
    "By avoiding problems such as variable obfuscation, the absolute import is considered a better programming practice than the relative import.\n",
    "\n",
    "Example of module [calc.py](./calc.py):"
   ]
  },
  {
   "cell_type": "code",
   "execution_count": 3,
   "metadata": {
    "collapsed": false
   },
   "outputs": [],
   "source": [
    "# File calc.py\n",
    "\n",
    "# Function defined in module\n",
    "def average(list):\n",
    "\n",
    "    return float(sum(list)) / len(list)"
   ]
  },
  {
   "cell_type": "markdown",
   "metadata": {},
   "source": [
    "Exemple of module usage:"
   ]
  },
  {
   "cell_type": "code",
   "execution_count": 7,
   "metadata": {
    "collapsed": false
   },
   "outputs": [
    {
     "name": "stdout",
     "output_type": "stream",
     "text": [
      "38.5\n"
     ]
    }
   ],
   "source": [
    "# Imports calc module\n",
    "import calc\n",
    "\n",
    "l = [23, 54, 31, 77, 12, 34]\n",
    "\n",
    "# Calls the function defined in calc\n",
    "print(calc.average(l))"
   ]
  },
  {
   "cell_type": "markdown",
   "metadata": {},
   "source": [
    "The main module of a program has the variable `__name__` equals to `__main__`, thus it is possible to test if the main module:"
   ]
  },
  {
   "cell_type": "code",
   "execution_count": 8,
   "metadata": {
    "collapsed": false
   },
   "outputs": [],
   "source": [
    "if __name__ == \"__main__\":\n",
    "    # Code here will only be runned \n",
    "    # if it is the main module\n",
    "    # and not when it is imported by another program\n",
    "    pass"
   ]
  },
  {
   "cell_type": "markdown",
   "metadata": {},
   "source": [
    "That way it is easy to turn a module into a program.\n",
    "\n",
    "Another module example:"
   ]
  },
  {
   "cell_type": "code",
   "execution_count": 15,
   "metadata": {
    "collapsed": false
   },
   "outputs": [],
   "source": [
    "\"\"\"\n",
    "modutils => utility routines for modules\n",
    "\"\"\"\n",
    "\n",
    "import os.path\n",
    "import sys\n",
    "import glob\n",
    "\n",
    "def find(txt):\n",
    "    \"\"\"find modules with name containing the parameter\n",
    "    \"\"\"\n",
    "\n",
    "    resp = []\n",
    "\n",
    "    for path in sys.path:\n",
    "        mods = glob.glob('%s/*.py' % path)\n",
    "\n",
    "        for mod in mods:\n",
    "            if txt in os.path.basename(mod):\n",
    "                resp.append(mod)\n",
    "\n",
    "    return resp"
   ]
  },
  {
   "cell_type": "markdown",
   "metadata": {},
   "source": [
    "Example using the module:"
   ]
  },
  {
   "cell_type": "code",
   "execution_count": 24,
   "metadata": {
    "collapsed": false
   },
   "outputs": [
    {
     "name": "stdout",
     "output_type": "stream",
     "text": [
      "c:\\python33-x64\\lib\\doctest.py: (102 kbytes, Sun Apr  1 19:53:50 2012)\n",
      "c:\\python33-x64\\lib\\pydoc.py: (101 kbytes, Sun Aug 12 15:58:44 2012)\n"
     ]
    }
   ],
   "source": [
    "from os.path import getsize, getmtime\n",
    "from time import localtime, asctime\n",
    "\n",
    "import modutils\n",
    "\n",
    "mods = modutils.find('doc')\n",
    "# finds a python files which name contains \"doc\" and prints it path, filesize and last save date\n",
    "#print(sys.path)\n",
    "\n",
    "\n",
    "for mod in mods:\n",
    "\n",
    "    tm = asctime(localtime(getmtime(mod)))\n",
    "    kb = getsize(mod) / 1024\n",
    "    print('%s: (%d kbytes, %s)' % (mod, kb, tm))"
   ]
  },
  {
   "cell_type": "markdown",
   "metadata": {},
   "source": [
    "Splitting programs into modules makes it easy to reuse and locating faults in the code."
   ]
  },
  {
   "cell_type": "code",
   "execution_count": null,
   "metadata": {
    "collapsed": false
   },
   "outputs": [],
   "source": []
  },
  {
   "cell_type": "code",
   "execution_count": null,
   "metadata": {
    "collapsed": true
   },
   "outputs": [],
   "source": []
  }
 ],
 "metadata": {
  "kernelspec": {
   "display_name": "Python 3",
   "language": "python",
   "name": "python3"
  },
  "language_info": {
   "codemirror_mode": {
    "name": "ipython",
    "version": 3
   },
   "file_extension": ".py",
   "mimetype": "text/x-python",
   "name": "python",
   "nbconvert_exporter": "python",
   "pygments_lexer": "ipython3",
   "version": "3.3.0"
  }
 },
 "nbformat": 4,
 "nbformat_minor": 0
}
