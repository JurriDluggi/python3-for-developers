{
 "cells": [
  {
   "cell_type": "markdown",
   "metadata": {},
   "source": [
    "[Python for Developers](http://ricardoduarte.github.io/python-for-desvelopers/#content)\n",
    "===================================\n",
    "First edition\n",
    "-----------------------------------\n",
    "\n",
    "Chapter 9: Scope of names\n",
    "=============================\n",
    "_____________________________\n",
    "\n",
    "The scope of names in Python is maintained by *Namespaces*, which are dictionaries that list the names of the objects (references) and the objects themselves.\n",
    "\n",
    "Normally, the names are defined in two dictionaries, which can be accessed through the functions `locals()` and `globals()`. These dictionaries are updated dynamically at <span class=\"note\" title=\"Although the dictionaries returned by locals() and globals() can be changed directly, this should be avoided because it can have undesirable effects.\">runtime</span>.\n",
    "\n",
    "![Namespaces](files/bpyfd_diags7.png)\n",
    "\n",
    "Global variables can be overshadowed by local variables (because the local scope is consulted before the global scope). To avoid this, you must declare the variable as global in the local scope.\n",
    "\n",
    "example:"
   ]
  },
  {
   "cell_type": "code",
   "execution_count": 44,
   "metadata": {
    "collapsed": false
   },
   "outputs": [
    {
     "name": "stdout",
     "output_type": "stream",
     "text": [
      "[1, 2]\n",
      "Item is list -> running recursive loop on the item\n",
      "1\n",
      "2\n",
      "[3, 4, 5]\n",
      "Item is list -> running recursive loop on the item\n",
      "3\n",
      "4\n",
      "5\n",
      "6\n",
      "======\n",
      "21\n"
     ]
    }
   ],
   "source": [
    "def addlist(itemlist):\n",
    "    \"\"\"\n",
    "    Add lists of lists, recursively\n",
    "    the result is global\n",
    "    \"\"\"\n",
    "    global add\n",
    "    \n",
    "    for item in itemlist:\n",
    "        print(item)\n",
    "        if type(item) is list: # If item type is list\n",
    "            print(\"Item is list -> running recursive loop on the item\")\n",
    "            addlist(item)\n",
    "            \n",
    "        else:\n",
    "            add+=item\n",
    "add = 0\n",
    "addlist([[1, 2],[3, 4, 5], 6])\n",
    "print(\"======\")\n",
    "print(add) # 21"
   ]
  },
  {
   "cell_type": "markdown",
   "metadata": {},
   "source": [
    "Using global variables is not considered a good development practice, as they make the system harder to understand, so it is better to avoid its use. The same applies to overshadowing variables."
   ]
  },
  {
   "cell_type": "code",
   "execution_count": null,
   "metadata": {
    "collapsed": false
   },
   "outputs": [],
   "source": []
  },
  {
   "cell_type": "code",
   "execution_count": null,
   "metadata": {
    "collapsed": true
   },
   "outputs": [],
   "source": []
  }
 ],
 "metadata": {
  "kernelspec": {
   "display_name": "Python 3",
   "language": "python",
   "name": "python3"
  },
  "language_info": {
   "codemirror_mode": {
    "name": "ipython",
    "version": 3
   },
   "file_extension": ".py",
   "mimetype": "text/x-python",
   "name": "python",
   "nbconvert_exporter": "python",
   "pygments_lexer": "ipython3",
   "version": "3.3.0"
  }
 },
 "nbformat": 4,
 "nbformat_minor": 0
}
