{
 "cells": [
  {
   "cell_type": "markdown",
   "metadata": {},
   "source": [
    "[Python for Developers](../index.ipynb/#content)\n",
    "===================================\n",
    "First Edition\n",
    "-----------------------------------\n",
    "\n",
    "Chapter 15: Generators\n",
    "=============================\n",
    "_____________________________\n",
    "tentativa\n",
    "The functions generally follow the conventional process flow, return values ​​and quit. Generators work similarly, but remember the state of the processing between calls, staying in memory and returning the next item expected when activated.\n",
    "\n",
    "The generators have several advantages over conventional functions:\n",
    "\n",
    "+ *Lazy Evaluation*: generators are only processed when it is really needed, saving processing resources. \n",
    "+ They reduce the need to create lists.\n",
    "+ They allow to work with unlimited sequences of elements.\n",
    "\n",
    "Generators are usually called through a *for* loop. The  syntax is similar to the traditional function, just the *yield* instruction substitutes *return*. In each new iteraction, *yield* returns the next value.\n",
    "\n",
    "Exemplo:"
   ]
  },
  {
   "cell_type": "code",
   "execution_count": 2,
   "metadata": {
    "collapsed": false
   },
   "outputs": [
    {
     "name": "stdout",
     "output_type": "stream",
     "text": [
      "0\n",
      "2\n",
      "4\n",
      "6\n",
      "8\n",
      "10\n",
      "12\n",
      "14\n",
      "16\n",
      "18\n",
      "20\n"
     ]
    }
   ],
   "source": [
    "def gen_pares():\n",
    "    \"\"\"\n",
    "    Generates even numbers from 0 to 20\n",
    "    \"\"\"\n",
    "    i = 0\n",
    "\n",
    "    while i <= 20:\n",
    "        yield i\n",
    "        i += 2\n",
    "\n",
    "# Shows each number and goes to the next\n",
    "for n in gen_pares():\n",
    "    print(n)"
   ]
  },
  {
   "cell_type": "markdown",
   "metadata": {},
   "source": [
    "### Another example:"
   ]
  },
  {
   "cell_type": "code",
   "execution_count": 4,
   "metadata": {
    "collapsed": false
   },
   "outputs": [
    {
     "name": "stdout",
     "output_type": "stream",
     "text": [
      "..\\.ipynb_checkpoints\\index-checkpoint.ipynb\n",
      "..\\Chapter1\\.ipynb_checkpoints\\Chapter1_Introduction-checkpoint.ipynb\n",
      "..\\Chapter1\\bpyfd_diags1.png\n",
      "..\\Chapter1\\Chapter1_Introduction.ipynb\n",
      "..\\Chapter1\\idle.png\n",
      "..\\Chapter1\\pycrust.png\n",
      "..\\Chapter1\\pyscripter.png\n",
      "..\\Chapter1\\spyder.png\n",
      "..\\Chapter10\\.ipynb_checkpoints\\Chapter10_Packages-checkpoint.ipynb\n",
      "..\\Chapter10\\bpyfd_diags8.png\n",
      "..\\Chapter10\\Chapter10_Packages.ipynb\n",
      "..\\Chapter11\\.ipynb_checkpoints\\Chapter11_Standard_library-checkpoint.ipynb\n",
      "..\\Chapter11\\archive.zip\n",
      "..\\Chapter11\\arq.zip\n",
      "..\\Chapter11\\Chapter11_Standard_library.ipynb\n",
      "..\\Chapter11\\dt.csv\n",
      "..\\Chapter11\\temp.txt\n",
      "..\\Chapter12\\.ipynb_checkpoints\\Chapter12_Third_Party_Libraries-checkpoint.ipynb\n",
      "..\\Chapter12\\Chapter12_Third_Party_Libraries.ipynb\n",
      "..\\Chapter13\\.ipynb_checkpoints\\Chapter13_Exceptions-checkpoint.ipynb\n",
      "..\\Chapter13\\Chapter13_Exceptions.ipynb\n",
      "..\\Chapter13\\temp.txt\n",
      "..\\Chapter13\\trace.log\n",
      "..\\Chapter14\\.ipynb_checkpoints\\Chapter14_Introspection-checkpoint.ipynb\n",
      "..\\Chapter14\\Chapter14_Introspection.ipynb\n",
      "..\\Chapter15\\.ipynb_checkpoints\\Chapter15_Generators-checkpoint.ipynb\n",
      "..\\Chapter15\\Chapter15_Generators.ipynb\n",
      "..\\Chapter2\\.ipynb_checkpoints\\Chapter2_Syntax-checkpoint.ipynb\n",
      "..\\Chapter2\\bpyfd_diags2.png\n",
      "..\\Chapter2\\Chapter2_Syntax.ipynb\n",
      "..\\Chapter3\\.ipynb_checkpoints\\Chapter3_Control_flow-checkpoint.ipynb\n",
      "..\\Chapter3\\Chapter3_Control_flow.ipynb\n",
      "..\\Chapter4\\.ipynb_checkpoints\\Chapter4_Loops-checkpoint.ipynb\n",
      "..\\Chapter4\\bpyfd_diags3.png\n",
      "..\\Chapter4\\Chapter4_Loops.ipynb\n",
      "..\\Chapter5\\.ipynb_checkpoints\\Chapter5_Types-checkpoint.ipynb\n",
      "..\\Chapter5\\bpyfd_diags4.png\n",
      "..\\Chapter5\\bpyfd_diags5.png\n",
      "..\\Chapter5\\Chapter5_Types.ipynb\n",
      "..\\Chapter6\\.ipynb_checkpoints\\Chapter6_Functions-checkpoint.ipynb\n",
      "..\\Chapter6\\Chapter6_Functions.ipynb\n",
      "..\\Chapter7\\.ipynb_checkpoints\\Chapter7_Documentation-checkpoint.ipynb\n",
      "..\\Chapter7\\Chapter7_Documentation.ipynb\n",
      "..\\Chapter8\\.ipynb_checkpoints\\Chapter8_Modules-checkpoint.ipynb\n",
      "..\\Chapter8\\bpyfd_diags6.png\n",
      "..\\Chapter8\\calc.py\n",
      "..\\Chapter8\\Chapter8_Modules.ipynb\n",
      "..\\Chapter8\\modutils.py\n",
      "..\\Chapter8\\__pycache__\\calc.cpython-33.pyc\n",
      "..\\Chapter8\\__pycache__\\modutils.cpython-33.pyc\n",
      "..\\Chapter9\\.ipynb_checkpoints\\Chapter9_Scope_of_names-checkpoint.ipynb\n",
      "..\\Chapter9\\bpyfd_diags7.png\n",
      "..\\Chapter9\\Chapter9_Scope_of_names.ipynb\n",
      "..\\ExercisesI\\.ipynb_checkpoints\\ExercisesI-checkpoint.ipynb\n",
      "..\\ExercisesI\\ExercisesI.ipynb\n",
      "..\\images\\bg_hr.png\n",
      "..\\images\\blacktocat.png\n",
      "..\\images\\by-nc-sa.png\n",
      "..\\images\\icon_download.png\n",
      "..\\images\\pypd_cover2e.jpg\n",
      "..\\images\\sprite_download.png\n",
      "..\\index.html\n",
      "..\\index.ipynb\n",
      "..\\javascripts\\main.js\n",
      "..\\notebook_template.ipynb\n",
      "..\\params.json\n",
      "..\\pypd_cover2e.jpg\n",
      "..\\README.md\n",
      "..\\stylesheets\\custom.css\n",
      "..\\stylesheets\\pygment_trac.css\n",
      "..\\stylesheets\\stylesheet.css\n"
     ]
    }
   ],
   "source": [
    "import os\n",
    "\n",
    "# Finds files recursively\n",
    "def find(path='.'):\n",
    "\n",
    "    for item in os.listdir(path):\n",
    "        fn = os.path.normpath(os.path.join(path, item))\n",
    "\n",
    "        if os.path.isdir(fn):\n",
    "\n",
    "            for f in find(fn):\n",
    "                yield f\n",
    "\n",
    "        else:\n",
    "            yield fn\n",
    "\n",
    "# At each interaction, the generator yeld a new file name\n",
    "for fn in find(\"..\"):\n",
    "    print(fn)"
   ]
  },
  {
   "cell_type": "markdown",
   "metadata": {},
   "source": [
    "There are many generators that are builtin to the lanaguage, like <span class=\"note\" title=\"The xrange() generator can replace the range() function most of the times and has the same syntax, while spending less memory.\">xrange()</span>. Moreover, in the module *itertools*, many useful generators are defined.\n",
    "\n",
    "To convert the output of a generator into a list:\n",
    "\n",
    "    alist = list(generator())\n",
    "\n",
    "That way, all the items will be generated at once."
   ]
  },
  {
   "cell_type": "code",
   "execution_count": 1,
   "metadata": {
    "collapsed": false
   },
   "outputs": [
    {
     "data": {
      "text/html": [
       "<style>\n",
       "    @font-face {\n",
       "        font-family: \"Computer Modern\";\n",
       "        src: url('http://mirrors.ctan.org/fonts/cm-unicode/fonts/otf/cmunss.otf');\n",
       "    }\n",
       "    div.cell{\n",
       "        width:800px;\n",
       "        margin-left:16% !important;\n",
       "        margin-right:auto;\n",
       "    }\n",
       "    h1 {\n",
       "        font-family: Helvetica, serif;\n",
       "    }\n",
       "    h4{\n",
       "        margin-top:12px;\n",
       "        margin-bottom: 3px;\n",
       "       }\n",
       "    div.text_cell_render{\n",
       "        font-family: Computer Modern, \"Helvetica Neue\", Arial, Helvetica, Geneva, sans-serif;\n",
       "        line-height: 145%;\n",
       "        font-size: 130%;\n",
       "        width:800px;\n",
       "        margin-left:auto;\n",
       "        margin-right:auto;\n",
       "    }\n",
       "    .CodeMirror{\n",
       "            font-family: \"Source Code Pro\", source-code-pro,Consolas, monospace;\n",
       "    }\n",
       "    .note{\n",
       "            border-bottom: 1px black dotted;\n",
       "    }\n",
       "    .prompt{\n",
       "        display: None;\n",
       "    }\n",
       "    .text_cell_render h5 {\n",
       "        font-weight: 300;\n",
       "        font-size: 16pt;\n",
       "        color: #4057A1;\n",
       "        font-style: italic;\n",
       "        margin-bottom: .5em;\n",
       "        margin-top: 0.5em;\n",
       "        display: block;\n",
       "    }\n",
       "    \n",
       "    .warning{\n",
       "        color: rgb( 240, 20, 20 )\n",
       "        }  \n",
       "</style>\n",
       "<script>\n",
       "    MathJax.Hub.Config({\n",
       "                        TeX: {\n",
       "                           extensions: [\"AMSmath.js\"]\n",
       "                           },\n",
       "                tex2jax: {\n",
       "                    inlineMath: [ ['$','$'], [\"\\\\(\",\"\\\\)\"] ],\n",
       "                    displayMath: [ ['$$','$$'], [\"\\\\[\",\"\\\\]\"] ]\n",
       "                },\n",
       "                displayAlign: 'center', // Change this to 'center' to center equations.\n",
       "                \"HTML-CSS\": {\n",
       "                    styles: {'.MathJax_Display': {\"margin\": 4}}\n",
       "                }\n",
       "        });\n",
       "</script>"
      ],
      "text/plain": [
       "<IPython.core.display.HTML at 0x50f8f98>"
      ]
     },
     "execution_count": 1,
     "metadata": {},
     "output_type": "execute_result"
    }
   ],
   "source": []
  }
 ],
 "metadata": {
  "kernelspec": {
   "display_name": "Python 3",
   "language": "python",
   "name": "python3"
  },
  "language_info": {
   "codemirror_mode": {
    "name": "ipython",
    "version": 3
   },
   "file_extension": ".py",
   "mimetype": "text/x-python",
   "name": "python",
   "nbconvert_exporter": "python",
   "pygments_lexer": "ipython3",
   "version": "3.3.0"
  }
 },
 "nbformat": 4,
 "nbformat_minor": 0
}
