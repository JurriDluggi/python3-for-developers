{
 "cells": [
  {
   "cell_type": "markdown",
   "metadata": {},
   "source": [
    "[Python for Developers](../index.ipynb/#content)\n",
    "===================================\n",
    "First Edition\n",
    "-----------------------------------\n",
    "\n",
    "Chapter 10: Packages\n",
    "=============================\n",
    "_____________________________\n",
    "Packages are folders that are identified by the interpreter by the presence of a file named `__init__.py`. Packages work as collections to organize hierarchically modules.\n",
    "\n",
    "![Package](files/bpyfd_diags8.png)\n",
    "\n",
    "You can import all package modules  using the statement `from packagename import *`.\n",
    "\n",
    "The `__init__.py` file can be empty or contain package initialization code or define a variable called `__all__`, a list of modules of the package that will be imported when using \"*\". Without the file, Python does not recognize the folder as a valid packet."
   ]
  },
  {
   "cell_type": "markdown",
   "metadata": {
    "collapsed": false
   },
   "source": []
  }
 ],
 "metadata": {
  "kernelspec": {
   "display_name": "Python 3",
   "language": "python",
   "name": "python3"
  },
  "language_info": {
   "codemirror_mode": {
    "name": "ipython",
    "version": 3
   },
   "file_extension": ".py",
   "mimetype": "text/x-python",
   "name": "python",
   "nbconvert_exporter": "python",
   "pygments_lexer": "ipython3",
   "version": "3.3.0"
  }
 },
 "nbformat": 4,
 "nbformat_minor": 0
}
